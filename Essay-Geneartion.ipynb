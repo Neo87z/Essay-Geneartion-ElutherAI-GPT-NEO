{
  "cells": [
    {
      "cell_type": "markdown",
      "metadata": {
        "id": "view-in-github",
        "colab_type": "text"
      },
      "source": [
        "<a href=\"https://colab.research.google.com/github/Neo87z/Essay-Geneartion-ElutherAI-GPT-NEO-/blob/main/Essay-Geneartion.ipynb\" target=\"_parent\"><img src=\"https://colab.research.google.com/assets/colab-badge.svg\" alt=\"Open In Colab\"/></a>"
      ]
    },
    {
      "cell_type": "code",
      "execution_count": null,
      "metadata": {
        "id": "fAbakOQpDU4x"
      },
      "outputs": [],
      "source": [
        "!pip install pydub\n",
        "!pip install pyngrok\n",
        "!pip install vosk\n",
        "!pip install praat-parselmouth\n",
        "!pip install pronouncing\n",
        "!pip install pyrebase\n",
        "!pip install flask_ngrok\n",
        "!pip install firebase\n",
        "!pip install -U flask-cors\n",
        "!pip install sentence-splitter\n",
        "!pip install SentencePiece\n",
        "!pip install python_jwt\n",
        "!pip install gcloud\n",
        "!pip install sseclient\n",
        "!pip install pycrypto\n",
        "!pip install requests-toolbelt\n",
        "!pip install bert-extractive-summarizer\n",
        "!pip install transformers\n",
        "!pip install spacy \n",
        "!pip install wordnet\n",
        "!pip install numpy \n",
        "!pip install matplotlib\n",
        "!pip install seaborn \n",
        "!pip install sklearn \n",
        "!pip install happytransformer\n",
        "!pip install datetime\n",
        "! pip install sentence-splitter\n",
        "! pip install SentencePiece \n",
        "!pip install pyinflect\n"
      ]
    },
    {
      "cell_type": "code",
      "execution_count": null,
      "metadata": {
        "id": "mTnVzFdyDX5E"
      },
      "outputs": [],
      "source": [
        "from pydub import AudioSegment\n",
        "from flask import *\n",
        "from flask_ngrok import run_with_ngrok\n",
        "import os\n",
        "import json\n",
        "import math\n",
        "import vosk\n",
        "import librosa\n",
        "import numpy\n",
        "from firebase import firebase\n",
        "import pandas as pd\n",
        "from pydub import AudioSegment\n",
        "from parselmouth.praat import call\n",
        "import pronouncing\n",
        "import parselmouth \n",
        "from parselmouth.praat import call\n",
        "import pyrebase\n",
        "from pydub import AudioSegment\n",
        "from flask_cors import CORS\n",
        "import torch\n",
        "from transformers import PegasusForConditionalGeneration, PegasusTokenizer\n",
        "from transformers import pipeline\n",
        "from nltk.corpus import stopwords\n",
        "from nltk.tokenize import word_tokenize, sent_tokenize\n",
        "from nltk.stem.snowball import SnowballStemmer\n",
        "import nltk\n",
        "nltk.download('punkt')\n",
        "nltk.download('stopwords')\n",
        "from string import punctuation\n",
        "from heapq import nlargest\n",
        "from transformers import GPTNeoForCausalLM, GPT2Tokenizer\n",
        "import spacy\n",
        "from nltk.corpus import wordnet\n",
        "import random\n",
        "from datetime import datetime\n",
        "import time\n",
        "from happytransformer import HappyTextToText\n",
        "from datasets import load_dataset\n",
        "import re\n",
        "import numpy as np\n",
        "import pandas as pd\n",
        "from sklearn.feature_extraction.text import CountVectorizer\n",
        "from sklearn.feature_extraction.text import TfidfVectorizer\n",
        "from sklearn.metrics.pairwise import cosine_similarity\n",
        "import pyinflect\n",
        "from transformers import pipeline\n",
        "import re"
      ]
    },
    {
      "cell_type": "code",
      "execution_count": null,
      "metadata": {
        "id": "wGpOWuZENt_-"
      },
      "outputs": [],
      "source": [
        "Sentence=\"\"\n",
        "def UpdateData(x):\n",
        "  print(x)\n",
        "  \n",
        "  global Sentence\n",
        "\n",
        "\n",
        "  Sentence=x\n",
        "\n"
      ]
    },
    {
      "cell_type": "code",
      "execution_count": null,
      "metadata": {
        "id": "4LmtpVZiNvWH"
      },
      "outputs": [],
      "source": [
        "model_name = 'tuner007/pegasus_paraphrase'\n",
        "torch_device =  'cpu'\n",
        "tokenizer = PegasusTokenizer.from_pretrained(model_name)\n",
        "model = PegasusForConditionalGeneration.from_pretrained(model_name).to(torch_device)\n",
        "\n",
        "def get_response(input_text,num_return_sequences):\n",
        "  batch = tokenizer.prepare_seq2seq_batch([input_text],truncation=True,padding='longest',max_length=60, return_tensors=\"pt\").to(torch_device)\n",
        "  translated = model.generate(**batch,max_length=1660,num_beams=10, num_return_sequences=num_return_sequences, temperature=1.5)\n",
        "  tgt_text = tokenizer.batch_decode(translated, skip_special_tokens=True)\n",
        "  return tgt_text"
      ]
    },
    {
      "cell_type": "code",
      "execution_count": null,
      "metadata": {
        "id": "v9ZzDObZNxDo"
      },
      "outputs": [],
      "source": [
        "def GetPharasedSentence(text):\n",
        "  data =get_response(text, 2)\n",
        "  return(data[1])\n"
      ]
    },
    {
      "cell_type": "code",
      "execution_count": null,
      "metadata": {
        "id": "We6eTHjjOOEw"
      },
      "outputs": [],
      "source": [
        "GetPharasedSentence(\"Because once a leader is found  and I don't mean just a leader in a group of soldiers but someone who is important to the group  it can make a big difference.\")"
      ]
    },
    {
      "cell_type": "code",
      "execution_count": null,
      "metadata": {
        "id": "LbXs4Nd_OPMm"
      },
      "outputs": [],
      "source": [
        "nltk.download('wordnet')\n",
        "happy_tt = HappyTextToText(\"T5\", \"vennify/t5-base-grammar-correction\")#Grammer Checking Model \n",
        "modelXYZ= GPTNeoForCausalLM.from_pretrained(\"EleutherAI/gpt-neo-1.3B\")#GTP Neo model\n",
        "tokenizerXYZ = GPT2Tokenizer.from_pretrained(\"EleutherAI/gpt-neo-1.3B\")"
      ]
    },
    {
      "cell_type": "code",
      "execution_count": null,
      "metadata": {
        "colab": {
          "base_uri": "https://localhost:8080/"
        },
        "id": "N1BnXglSPuC2",
        "outputId": "68998356-c5e9-48ba-b1e5-540fc5417942"
      },
      "outputs": [
        {
          "output_type": "stream",
          "name": "stdout",
          "text": [
            "Because once a leader is found, and I don't mean just a leader in a group of soldiers, but someone who is important to the group, it can make a big difference in their performance or in how they carry out their mission.\n"
          ]
        }
      ],
      "source": [
        "from happytransformer import TTSettings#Grammer checking\n",
        "beam_settings =  TTSettings(num_beams=15, min_length=1, max_length=1200)\n",
        "result = happy_tt.generate_text(\"Because once a leadersss is found  and I don't mean just a leader in a group of soldiers but someone who is important to the group  it can make a big difference in their performance or in how they carry out their mission.\", args=beam_settings)\n",
        "print(result.text)            "
      ]
    },
    {
      "cell_type": "code",
      "execution_count": null,
      "metadata": {
        "colab": {
          "base_uri": "https://localhost:8080/"
        },
        "id": "jSeoH9JlQgr1",
        "outputId": "3b12fb75-dc92-42bd-c23b-d751c1d1ee62"
      },
      "outputs": [
        {
          "output_type": "stream",
          "name": "stderr",
          "text": [
            "[nltk_data] Downloading package omw-1.4 to /root/nltk_data...\n"
          ]
        }
      ],
      "source": [
        "nlp = spacy.load('en_core_web_sm')\n",
        "nltk.download('omw-1.4')      \n",
        "en = spacy.load('en_core_web_sm')\n",
        "sw_spacy = en.Defaults.stop_words  "
      ]
    },
    {
      "cell_type": "code",
      "execution_count": null,
      "metadata": {
        "id": "_1uABe7oQhwu"
      },
      "outputs": [],
      "source": [
        "FBConn= firebase.FirebaseApplication('https://stek-e122c-default-rtdb.firebaseio.com/',None)#Database Connection"
      ]
    },
    {
      "cell_type": "code",
      "execution_count": null,
      "metadata": {
        "id": "LIO6WAGgQixt"
      },
      "outputs": [],
      "source": [
        "def GenerateDraft8(Text):#To Generate a Draft using GTP NEo model\n",
        "  prompt =Text\n",
        "\n",
        "  input_ids = tokenizerXYZ(prompt, return_tensors=\"pt\").input_ids\n",
        "\n",
        "  gen_tokens = modelXYZ.generate(\n",
        "      input_ids,\n",
        "      do_sample=True,\n",
        "      temperature=0.7,\n",
        "      max_length=500,\n",
        "  )\n",
        "  \n",
        "  gen_text = tokenizerXYZ.batch_decode(gen_tokens)[0]\n",
        "  newTex=gen_text.split()\n",
        "  Data=\"\"\n",
        "  for i in newTex:\n",
        "    Data=Data+\" \"+ i\n",
        "  return Data"
      ]
    },
    {
      "cell_type": "code",
      "execution_count": null,
      "metadata": {
        "id": "4GvqqbCwQkkm"
      },
      "outputs": [],
      "source": [
        "print(GenerateDraft8(\"Why graduating from high school is important\"))"
      ]
    },
    {
      "cell_type": "code",
      "execution_count": null,
      "metadata": {
        "id": "t_yegsLWQmw1"
      },
      "outputs": [],
      "source": [
        "from sentence_splitter import SentenceSplitter, split_text_into_sentences #To seperate Sentences using . \n",
        "\n",
        "splitter = SentenceSplitter(language='en')\n",
        "\n"
      ]
    },
    {
      "cell_type": "code",
      "execution_count": null,
      "metadata": {
        "id": "GH8P7aycQnvV"
      },
      "outputs": [],
      "source": [
        "FBConn= firebase.FirebaseApplication('https://stek-e122c-default-rtdb.firebaseio.com/',None)"
      ]
    },
    {
      "cell_type": "code",
      "execution_count": null,
      "metadata": {
        "id": "2D8eg_ASQolG"
      },
      "outputs": [],
      "source": [
        "def getTopic(): #Function to get Essay Topic in the firebase\n",
        "   result = FBConn.get('/data/', '')\n",
        "   return result['SelectedTopic']\n",
        "\n"
      ]
    },
    {
      "cell_type": "code",
      "execution_count": null,
      "metadata": {
        "id": "bZnpgX1SQqWu"
      },
      "outputs": [],
      "source": []
    },
    {
      "cell_type": "code",
      "execution_count": null,
      "metadata": {
        "id": "CHYP7wXKQsMO"
      },
      "outputs": [],
      "source": [
        "def mainProgramme(text):\n",
        "  try:\n",
        "    Subject=get_subject_phrase(nlp(text))#Get the Subject Of the sentenbce\n",
        "    last =getlast(text)#Get the Last of the sentence\n",
        "    newSub=str(Subject)#Converting Subject to String\n",
        "    Descision=getMatching(newSub.lower(),last)#Getting the Mtahcing Data from the Database\n",
        "    if(Descision == \"None\"):#checkiong if there is any matching essay data\n",
        "      finalData=GenerateDraft8(text)\n",
        "      BeforePrint=finalData#Assinging The daft to a variable\n",
        "      finalData=finalData.split('.')#Spliting the Draft into a list \n",
        "      toPrint=''\n",
        "      for x in range(0,len(finalData)):#Looping the splitted list\n",
        "        print(x)\n",
        "        toPrint=toPrint+\" \"+GetPharasedSentence(finalData[x])#Makking the sentences more meangnfull using peagus model\n",
        "      sentence_list = splitter.split(toPrint)#Splitting the new Optmized Essay\n",
        "      afterGrammar=''\n",
        "      for x in range (0,len(sentence_list)):#Looping the optmizteds Essay\n",
        "        TempData=sentence_list[x].split(\" \")#\n",
        "        if(len(TempData)> 5):#checking if the senetces word is greater than 5\n",
        "          result = happy_tt.generate_text(sentence_list[x], args=beam_settings)#Fuxing the if there is any grammer misatkes\n",
        "          afterGrammar=afterGrammar+ \" \"+ result.text#combinign the new steneces\n",
        "      FinalOutput=afterGrammar\n",
        "      FinalOutput=FinalOutput.replace(\"\\ \",\" \")#Removing unwated characters\n",
        "      DataTSendTO = splitter.split(FinalOutput)\n",
        "      DataTSendTO = list(dict.fromkeys(DataTSendTO))\n",
        "      FinalPrint=\"\"\n",
        "      for x in range (0,len(DataTSendTO)):\n",
        "        FinalPrint=FinalPrint+\" \"+ DataTSendTO[x]\n",
        "      AddToDatabase(FinalPrint,newSub.strip(),last,BeforePrint)#Addning to the Databas\n",
        "      data ={#Makung a JSon object to returb \n",
        "          \"FinalChoiceData\" : FinalPrint,\n",
        "          \"Orgiginal\":BeforePrint,\n",
        "      }\n",
        "      return data#Returingin Dtaa\n",
        "    else:#if there is a essay in the databse\n",
        "      print()\n",
        "      data ={\n",
        "          \"FinalChoiceData\" : Descision['FinalChoiceData'],\n",
        "          \"Orgiginal\":Descision['Orgiginal'],\n",
        "      }\n",
        "      return data\n",
        "  except:    \n",
        "      data ={\n",
        "          \"FinalChoiceData\" : \"Please Generate Again\",\n",
        "          \"Orgiginal\":BeforePrint,\n",
        "      }\n",
        "      return data\n",
        "\n",
        "\n",
        "\n"
      ]
    },
    {
      "cell_type": "code",
      "execution_count": null,
      "metadata": {
        "id": "-Y1IQkhZQ0bn"
      },
      "outputs": [],
      "source": [
        "def AddToDatabase(text,subject,last,Orgi):#function to Save In the firerbase Db\n",
        "  FirebaseDataStore={\n",
        "    \"TopicSubject\":subject.lower(),\n",
        "    \"TopicLast\":last.lower(),\n",
        "    \"Text\":text,\n",
        "    \"Original\":Orgi\n",
        "  }\n",
        "  result = FBConn.get('/ResearchTopiCData/', '')  \n",
        "  result=FBConn.post('/ResearchTopiCData/',FirebaseDataStore)\n"
      ]
    },
    {
      "cell_type": "code",
      "execution_count": null,
      "metadata": {
        "id": "ycqw9CcFQ1ru"
      },
      "outputs": [],
      "source": [
        "def get_subject_phrase(doc):# Function to gte the subject in the setence\n",
        "    for token in doc:\n",
        "        if (\"subj\" in token.dep_):\n",
        "            subtree = list(token.subtree)\n",
        "            start = subtree[0].i\n",
        "            end = subtree[-1].i + 1\n",
        "            return doc[start:end]"
      ]
    },
    {
      "cell_type": "code",
      "execution_count": null,
      "metadata": {
        "id": "hwfEmGQ9Q2gV"
      },
      "outputs": [],
      "source": [
        "def getlast(text): #function to gte the last in the sentence\n",
        "  newText=text.split()\n",
        "  last=(len(newText))\n",
        "  return newText[last-1]"
      ]
    },
    {
      "cell_type": "code",
      "execution_count": null,
      "metadata": {
        "id": "EHSvt8csQ3SW"
      },
      "outputs": [],
      "source": [
        "def getMatching(TopicSubject,TopicLast):#to get the matching Data in the databse\n",
        "  try:\n",
        "    TopicSubject.lower()#Conveting the subject to Lowrcase\n",
        "    TopicLast.lower()#Converting the Topic Last to Lower case\n",
        "    NewSubject=TopicSubject.strip()#Removing whitpasce\n",
        "    \n",
        "    NewLast=TopicLast.strip()#removing whitpasce\n",
        "    \n",
        "    TopicLastNew=NewLast.lower()\n",
        "   \n",
        "    TopicSubjectNew=NewSubject.lower()\n",
        "   \n",
        "    SynoTopicSubject=GetSynonyms(TopicSubjectNew)#getting to the synonims for the SUbject\n",
        "    \n",
        "    SynoTopicLast=GetSynonyms(TopicLastNew)#getting to the synonims for the Last\n",
        "    \n",
        "    UniqueTopicSubject=unique(SynoTopicSubject)#Getting unique Names\n",
        "    UniqueTopicSubject.append(NewSubject)\n",
        "    UniqueTopicLast=unique(SynoTopicLast)     \n",
        "   \n",
        "    result = FBConn.get('/ResearchTopiCData/', '')  \n",
        "    \n",
        "    for key in result.keys():#Looping the database\n",
        "      \n",
        "      for data2 in UniqueTopicSubject:\n",
        "\n",
        "        \n",
        "               \n",
        "        if(result[key]['TopicSubject'].lower() == data2): \n",
        "          for data in UniqueTopicLast:\n",
        "            if(result[key]['TopicLast'].lower() ==data):\n",
        "              print(result[key]['Original'])\n",
        "              data ={\n",
        "                  \"FinalChoiceData\" : result[key]['Text'],\n",
        "                  \"Orgiginal\":result[key]['Original'],\n",
        "              }\n",
        "              return data\n",
        "    return \"None\"\n",
        "  except:\n",
        "    \n",
        "    return \"None\"\n"
      ]
    },
    {
      "cell_type": "code",
      "execution_count": null,
      "metadata": {
        "id": "wk1PSiDNQ4hm"
      },
      "outputs": [],
      "source": [
        "def GetSynonyms(word):#Function to get the Synonims \n",
        "\n",
        "  synonyms=[]\n",
        "  for syn in wordnet.synsets(word):\n",
        "    for lemma in syn.lemmas():\n",
        "      synonyms.append(lemma.name()  )\n",
        "  return synonyms"
      ]
    },
    {
      "cell_type": "code",
      "execution_count": null,
      "metadata": {
        "id": "n7COmOXBQ5ce"
      },
      "outputs": [],
      "source": [
        "def unique(list1):#function ot gte the unieque of the list\n",
        "    unique_list = [] \n",
        "    for x in list1:\n",
        "        if x not in unique_list:\n",
        "            unique_list.append(x)\n",
        "    return (unique_list)"
      ]
    },
    {
      "cell_type": "code",
      "execution_count": null,
      "metadata": {
        "id": "B-dOuyslQ6z9"
      },
      "outputs": [],
      "source": [
        "from flask import *\n",
        "from flask_ngrok import run_with_ngrok\n",
        "from flask import Flask\n",
        "from flask_cors import CORS\n"
      ]
    },
    {
      "cell_type": "code",
      "execution_count": null,
      "metadata": {
        "id": "IVkEtIL8Tcj1"
      },
      "outputs": [],
      "source": [
        "app = Flask(__name__)\n",
        "cors = CORS(app)"
      ]
    },
    {
      "cell_type": "code",
      "execution_count": null,
      "metadata": {
        "colab": {
          "base_uri": "https://localhost:8080/"
        },
        "id": "OljF_FIrQ9nO",
        "outputId": "785b2bbf-a1b6-4c66-f2c6-8e5a7707d68c"
      },
      "outputs": [
        {
          "output_type": "stream",
          "name": "stdout",
          "text": [
            "Authtoken saved to configuration file: /root/.ngrok2/ngrok.yml\n"
          ]
        }
      ],
      "source": [
        "! ngrok authtoken 2HT7xP7fNrb8xB0G6TsoY1wupuH_3qvtaDBFuEC8KKzHnjYkf"
      ]
    },
    {
      "cell_type": "code",
      "source": [
        "checkSum=True;"
      ],
      "metadata": {
        "id": "IfSgZHZWQPuo"
      },
      "execution_count": null,
      "outputs": []
    },
    {
      "cell_type": "code",
      "execution_count": null,
      "metadata": {
        "id": "SUcLP3CVQ7zP"
      },
      "outputs": [],
      "source": [
        "@app.route(\"/GetEssay\",methods=['POST'])\n",
        "def GetEssay():\n",
        "  global checkSum\n",
        "  if(checkSum == True):\n",
        "    checkSum=False\n",
        "    data=mainProgramme(Sentence)\n",
        "    my_str=data['FinalChoiceData']\n",
        "    my_str2=data['Orgiginal']\n",
        "    dataXXX={\n",
        "          \"FinalChoiceData\":my_str,\n",
        "          \"Original\":my_str2\n",
        "    }\n",
        "    checkSum=True\n",
        "    return (dataXXX)"
      ]
    },
    {
      "cell_type": "code",
      "execution_count": null,
      "metadata": {
        "id": "Y-PnAkWKQ8sv"
      },
      "outputs": [],
      "source": [
        "@app.route(\"/SaveSentnece\",methods=['POST'])\n",
        "def SaveSentnece():\n",
        "  Data=reqData=request.get_json()\n",
        "  UpdateData(Data['SentenceData'])\n",
        "  \n",
        "  return (\"data\")"
      ]
    },
    {
      "cell_type": "code",
      "execution_count": null,
      "metadata": {
        "colab": {
          "base_uri": "https://localhost:8080/"
        },
        "id": "891m7dr0Q-j-",
        "outputId": "fdf3fc24-5c9d-45cf-9103-e80e4d85e4b6"
      },
      "outputs": [
        {
          "output_type": "stream",
          "name": "stdout",
          "text": [
            " * Serving Flask app \"__main__\" (lazy loading)\n",
            " * Environment: production\n",
            "\u001b[31m   WARNING: This is a development server. Do not use it in a production deployment.\u001b[0m\n",
            "\u001b[2m   Use a production WSGI server instead.\u001b[0m\n",
            " * Debug mode: off\n"
          ]
        },
        {
          "output_type": "stream",
          "name": "stderr",
          "text": [
            "INFO:werkzeug: * Running on http://127.0.0.1:5000/ (Press CTRL+C to quit)\n"
          ]
        },
        {
          "output_type": "stream",
          "name": "stdout",
          "text": [
            " * Running on http://b657-34-125-240-11.ngrok.io\n",
            " * Traffic stats available on http://127.0.0.1:4040\n"
          ]
        },
        {
          "output_type": "stream",
          "name": "stderr",
          "text": [
            "INFO:werkzeug:127.0.0.1 - - [14/Nov/2022 01:42:34] \"\u001b[37mOPTIONS /SaveSentnece HTTP/1.1\u001b[0m\" 200 -\n",
            "INFO:werkzeug:127.0.0.1 - - [14/Nov/2022 01:42:34] \"\u001b[37mPOST /SaveSentnece HTTP/1.1\u001b[0m\" 200 -\n"
          ]
        },
        {
          "output_type": "stream",
          "name": "stdout",
          "text": [
            "he pros and cons of online retail\n"
          ]
        },
        {
          "output_type": "stream",
          "name": "stderr",
          "text": [
            "INFO:werkzeug:127.0.0.1 - - [14/Nov/2022 01:42:46] \"\u001b[37mOPTIONS /SaveSentnece HTTP/1.1\u001b[0m\" 200 -\n",
            "INFO:werkzeug:127.0.0.1 - - [14/Nov/2022 01:42:46] \"\u001b[37mPOST /SaveSentnece HTTP/1.1\u001b[0m\" 200 -\n"
          ]
        },
        {
          "output_type": "stream",
          "name": "stdout",
          "text": [
            "The pros and cons of online retail\n"
          ]
        },
        {
          "output_type": "stream",
          "name": "stderr",
          "text": [
            "INFO:werkzeug:127.0.0.1 - - [14/Nov/2022 01:42:51] \"\u001b[37mPOST /GetEssay HTTP/1.1\u001b[0m\" 200 -\n"
          ]
        },
        {
          "output_type": "stream",
          "name": "stdout",
          "text": [
            " the pros and cons of online retail The pros and cons of online retail are numerous. First, online retail is a form of retailing. Second, it is a relatively new business model. Third, it has tremendous potential to disrupt retail. Fourth, it is a relatively new space for the internet. Online retail is a form of retailing. In the retail industry, online retail is a form of retailing. In the online retail industry, it’s a form of retailing. In essence, the online and offline ae not at all related. The offline retail space is a physical space, a store. The online space is the online space. The offline space is the physical space, the physical store. In my opinion, online retail is a form of retailing. Online retail is the most profitable form of retailing. First, online retail is a form of retailing. in the retail space, onlinse retail is a form of retailing. In the online space, it’s a form of retailing. The online retail space is not the same thing as the offline retail space. The offline retail space is the physical space, the store. The online retail space is the online retail space. Online retail is a form of retailing. In the offline space, online retail is a form of retailing. In the online space, it’s a form of retailing. The online space is relatively new. The offline space is relatively new. The online space is not new. The offline space is relatively old. The online space is relatively new. In the offline space, online retail is not new. In the offline space, online retail is relatively new. In the online space, the offline space is relatively new. The offline retail space is very old. In the offline space, the offline space is very very  old. The offline retail space is very new. The offline retail space is very new. The offline retail space is relatively new. The online retail space is relatively new. The online space is relatively new. There are some similarities between the offline and online retail spaces. The offline retail space is a physical space, a store. The online space is the online space. The offline space is the physical store. The offline space is relatively new. The online space is relatively new. The offline space\n",
            "\n"
          ]
        },
        {
          "output_type": "stream",
          "name": "stderr",
          "text": [
            "INFO:werkzeug:127.0.0.1 - - [14/Nov/2022 02:13:36] \"\u001b[37mOPTIONS /SaveSentnece HTTP/1.1\u001b[0m\" 200 -\n",
            "INFO:werkzeug:127.0.0.1 - - [14/Nov/2022 02:13:37] \"\u001b[37mPOST /SaveSentnece HTTP/1.1\u001b[0m\" 200 -\n"
          ]
        },
        {
          "output_type": "stream",
          "name": "stdout",
          "text": [
            "The pros and cons of online retail\n"
          ]
        },
        {
          "output_type": "stream",
          "name": "stderr",
          "text": [
            "INFO:werkzeug:127.0.0.1 - - [14/Nov/2022 02:13:39] \"\u001b[37mPOST /GetEssay HTTP/1.1\u001b[0m\" 200 -\n"
          ]
        },
        {
          "output_type": "stream",
          "name": "stdout",
          "text": [
            " the pros and cons of online retail The pros and cons of online retail are numerous. First, online retail is a form of retailing. Second, it is a relatively new business model. Third, it has tremendous potential to disrupt retail. Fourth, it is a relatively new space for the internet. Online retail is a form of retailing. In the retail industry, online retail is a form of retailing. In the online retail industry, it’s a form of retailing. In essence, the online and offline ae not at all related. The offline retail space is a physical space, a store. The online space is the online space. The offline space is the physical space, the physical store. In my opinion, online retail is a form of retailing. Online retail is the most profitable form of retailing. First, online retail is a form of retailing. in the retail space, onlinse retail is a form of retailing. In the online space, it’s a form of retailing. The online retail space is not the same thing as the offline retail space. The offline retail space is the physical space, the store. The online retail space is the online retail space. Online retail is a form of retailing. In the offline space, online retail is a form of retailing. In the online space, it’s a form of retailing. The online space is relatively new. The offline space is relatively new. The online space is not new. The offline space is relatively old. The online space is relatively new. In the offline space, online retail is not new. In the offline space, online retail is relatively new. In the online space, the offline space is relatively new. The offline retail space is very old. In the offline space, the offline space is very very  old. The offline retail space is very new. The offline retail space is very new. The offline retail space is relatively new. The online retail space is relatively new. The online space is relatively new. There are some similarities between the offline and online retail spaces. The offline retail space is a physical space, a store. The online space is the online space. The offline space is the physical store. The offline space is relatively new. The online space is relatively new. The offline space\n",
            "\n"
          ]
        },
        {
          "output_type": "stream",
          "name": "stderr",
          "text": [
            "INFO:werkzeug:127.0.0.1 - - [14/Nov/2022 02:15:31] \"\u001b[37mOPTIONS /SaveSentnece HTTP/1.1\u001b[0m\" 200 -\n",
            "INFO:werkzeug:127.0.0.1 - - [14/Nov/2022 02:15:32] \"\u001b[37mPOST /SaveSentnece HTTP/1.1\u001b[0m\" 200 -\n"
          ]
        },
        {
          "output_type": "stream",
          "name": "stdout",
          "text": [
            "The pros and cons of online retail\n"
          ]
        },
        {
          "output_type": "stream",
          "name": "stderr",
          "text": [
            "INFO:werkzeug:127.0.0.1 - - [14/Nov/2022 02:15:35] \"\u001b[37mPOST /GetEssay HTTP/1.1\u001b[0m\" 200 -\n"
          ]
        },
        {
          "output_type": "stream",
          "name": "stdout",
          "text": [
            " the pros and cons of online retail The pros and cons of online retail are numerous. First, online retail is a form of retailing. Second, it is a relatively new business model. Third, it has tremendous potential to disrupt retail. Fourth, it is a relatively new space for the internet. Online retail is a form of retailing. In the retail industry, online retail is a form of retailing. In the online retail industry, it’s a form of retailing. In essence, the online and offline ae not at all related. The offline retail space is a physical space, a store. The online space is the online space. The offline space is the physical space, the physical store. In my opinion, online retail is a form of retailing. Online retail is the most profitable form of retailing. First, online retail is a form of retailing. in the retail space, onlinse retail is a form of retailing. In the online space, it’s a form of retailing. The online retail space is not the same thing as the offline retail space. The offline retail space is the physical space, the store. The online retail space is the online retail space. Online retail is a form of retailing. In the offline space, online retail is a form of retailing. In the online space, it’s a form of retailing. The online space is relatively new. The offline space is relatively new. The online space is not new. The offline space is relatively old. The online space is relatively new. In the offline space, online retail is not new. In the offline space, online retail is relatively new. In the online space, the offline space is relatively new. The offline retail space is very old. In the offline space, the offline space is very very  old. The offline retail space is very new. The offline retail space is very new. The offline retail space is relatively new. The online retail space is relatively new. The online space is relatively new. There are some similarities between the offline and online retail spaces. The offline retail space is a physical space, a store. The online space is the online space. The offline space is the physical store. The offline space is relatively new. The online space is relatively new. The offline space\n",
            "\n"
          ]
        },
        {
          "output_type": "stream",
          "name": "stderr",
          "text": [
            "INFO:werkzeug:127.0.0.1 - - [14/Nov/2022 02:17:54] \"\u001b[37mOPTIONS /SaveSentnece HTTP/1.1\u001b[0m\" 200 -\n",
            "INFO:werkzeug:127.0.0.1 - - [14/Nov/2022 02:17:55] \"\u001b[37mPOST /SaveSentnece HTTP/1.1\u001b[0m\" 200 -\n"
          ]
        },
        {
          "output_type": "stream",
          "name": "stdout",
          "text": [
            "Sources of alternative energy\n"
          ]
        },
        {
          "output_type": "stream",
          "name": "stderr",
          "text": [
            "INFO:werkzeug:127.0.0.1 - - [14/Nov/2022 02:17:57] \"\u001b[37mPOST /GetEssay HTTP/1.1\u001b[0m\" 200 -\n"
          ]
        },
        {
          "output_type": "stream",
          "name": "stdout",
          "text": [
            " Sourcess of alternativ energy in the United States Alternative energy sources exist in the U.S. Despite the fact that the U.S. produces far more energy per capita than other industrialized countries, the U.S. is unable to generate its own alternative energy. U.S. energy imports come mainly from two sources: hydroelectric power and coal power. Hydropower is the most common source of U.S. energy. Hydropower The primary power source in the U.S. is hydroelectric power. In most of the U.S. states, a dam or lake is the primary power source. In the South, the sources of power are the Mississippi River River  and the Colorado River. In the West, the sources of power are the Colorado River and the Black River in Colorado. In the U.S. the power is produced by damming rivers, and using wind or solar energy to create electricity. In the early years, the power was available from a small number of power plants built at the turn of the 20th century to meet the needs of the growing middle class. Since then, the number of power plants has increased. Despite the fact that the U.S. produces far more energy per capita than other industrialized countriescountries, the U.S. is unable to generate its own alternative energy. U.S. energy imports come mainly from two sources: hydroelectric power and coal power. Hydroelectric power is the most common source of U.S. energy. Hydroelectric power Hydroelectric power is the primary sources of U.S. energy. In the early years, the power was available from a small number of power plants built at the turn of the 20th century to meet the needs of the growing middle class. Since then, the number of power plants has increased. In the U.S., the power is produced by damming rivers, and using wind or solar energy to create electricity. In the early years, the power was availables from a small number of power plants built at the turn of the 20th century to meet the needs of the growing middle class. Since then, the number of power plants has increased. Despite the fact that the U.S. produces far more energy per capita than other industrialized countries, the U.S. is unable to generate its own alternative energy. U.S. energy imports come mainly from two sources: hydroelectric power...\n",
            "\n"
          ]
        }
      ],
      "source": [
        "run_with_ngrok(app)\n",
        "app.run()"
      ]
    }
  ],
  "metadata": {
    "accelerator": "GPU",
    "colab": {
      "machine_shape": "hm",
      "provenance": [],
      "authorship_tag": "ABX9TyM3Mmqnc6RMv6yJp8FuTNzc",
      "include_colab_link": true
    },
    "gpuClass": "premium",
    "kernelspec": {
      "display_name": "Python 3",
      "name": "python3"
    },
    "language_info": {
      "name": "python"
    }
  },
  "nbformat": 4,
  "nbformat_minor": 0
}